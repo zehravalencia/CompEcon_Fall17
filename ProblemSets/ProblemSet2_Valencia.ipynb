{
 "cells": [
  {
   "cell_type": "markdown",
   "metadata": {},
   "source": [
    "# The Phyton Standard Library"
   ]
  },
  {
   "cell_type": "markdown",
   "metadata": {},
   "source": [
    "__Problem 1:__"
   ]
  },
  {
   "cell_type": "code",
   "execution_count": 3,
   "metadata": {
    "collapsed": true
   },
   "outputs": [],
   "source": [
    " my_list = [1, 2, 3, 5, 6] "
   ]
  },
  {
   "cell_type": "code",
   "execution_count": 4,
   "metadata": {},
   "outputs": [
    {
     "data": {
      "text/plain": [
       "(1, 6, 3.4)"
      ]
     },
     "execution_count": 4,
     "metadata": {},
     "output_type": "execute_result"
    }
   ],
   "source": [
    "min(my_list), max(my_list), sum(my_list)/len(my_list)"
   ]
  },
  {
   "cell_type": "markdown",
   "metadata": {},
   "source": [
    "__Problem 2:__"
   ]
  },
  {
   "cell_type": "code",
   "execution_count": 5,
   "metadata": {},
   "outputs": [
    {
     "data": {
      "text/plain": [
       "5"
      ]
     },
     "execution_count": 5,
     "metadata": {},
     "output_type": "execute_result"
    }
   ],
   "source": [
    "#numbers --> immutable\n",
    "x = 4\n",
    "y = x\n",
    "x +=1\n",
    "x"
   ]
  },
  {
   "cell_type": "code",
   "execution_count": 6,
   "metadata": {},
   "outputs": [
    {
     "data": {
      "text/plain": [
       "4"
      ]
     },
     "execution_count": 6,
     "metadata": {},
     "output_type": "execute_result"
    }
   ],
   "source": [
    "y"
   ]
  },
  {
   "cell_type": "code",
   "execution_count": 7,
   "metadata": {},
   "outputs": [
    {
     "name": "stdout",
     "output_type": "stream",
     "text": [
      "Zehra\n"
     ]
    }
   ],
   "source": [
    "#strings --> immutable                              example ; the variable, z, which points \"Zehr\" is immutable\n",
    "z = \"Zehr\"                                       #z points \"Zehr\"\n",
    "v = z                                            #v points the same \"Zehr\" that z points to\n",
    "z += 'a'\n",
    "print(z)"
   ]
  },
  {
   "cell_type": "code",
   "execution_count": 8,
   "metadata": {},
   "outputs": [
    {
     "name": "stdout",
     "output_type": "stream",
     "text": [
      "Zehr\n"
     ]
    }
   ],
   "source": [
    "print(v)"
   ]
  },
  {
   "cell_type": "code",
   "execution_count": 9,
   "metadata": {},
   "outputs": [
    {
     "data": {
      "text/plain": [
       "['Ayse', 'Rustem', 'Cagin', 'Cigdem', 'Zehra']"
      ]
     },
     "execution_count": 9,
     "metadata": {},
     "output_type": "execute_result"
    }
   ],
   "source": [
    "#Lists -->  mutable\n",
    "names = [\"Ayse\", \"Rustem\", \"Cagin\", \"Cigdem\"]\n",
    "family_turk = names\n",
    "family_turk.append(\"Zehra\")\n",
    "family_turk"
   ]
  },
  {
   "cell_type": "code",
   "execution_count": 10,
   "metadata": {},
   "outputs": [
    {
     "data": {
      "text/plain": [
       "['Ayse', 'Rustem', 'Cagin', 'Cigdem', 'Zehra']"
      ]
     },
     "execution_count": 10,
     "metadata": {},
     "output_type": "execute_result"
    }
   ],
   "source": [
    "names"
   ]
  },
  {
   "cell_type": "code",
   "execution_count": null,
   "metadata": {
    "collapsed": true
   },
   "outputs": [],
   "source": [
    "#tuples are immutable\n",
    "my_tuple = (4, 5, 6)\n",
    "my_tuple2 = my_tuple\n",
    "my_tuple +=(1,)\n",
    "my_tuple"
   ]
  },
  {
   "cell_type": "code",
   "execution_count": 12,
   "metadata": {},
   "outputs": [
    {
     "data": {
      "text/plain": [
       "{'fruits': ['watermelon', 'strawberry'], 'vegetables': 'eggplant', 1: 'a'}"
      ]
     },
     "execution_count": 12,
     "metadata": {},
     "output_type": "execute_result"
    }
   ],
   "source": [
    "#dictionaries are mutable\n",
    "my_fave_food = {\"fruits\" : [\"watermelon\", \"strawberry\"],\"vegetables\" : \"eggplant\"}\n",
    "my_fave_food2 = my_fave_food\n",
    "my_fave_food[1]='a'\n",
    "my_fave_food"
   ]
  },
  {
   "cell_type": "code",
   "execution_count": 13,
   "metadata": {},
   "outputs": [
    {
     "data": {
      "text/plain": [
       "{'fruits': ['watermelon', 'strawberry'], 'vegetables': 'eggplant', 1: 'a'}"
      ]
     },
     "execution_count": 13,
     "metadata": {},
     "output_type": "execute_result"
    }
   ],
   "source": [
    "my_fave_food2"
   ]
  },
  {
   "cell_type": "code",
   "execution_count": 7,
   "metadata": {
    "collapsed": true
   },
   "outputs": [],
   "source": [
    "#numbers --> immutable\n",
    "#strings --> immutable \n",
    "#Lists -->  mutable\n",
    "#tuples are immutable\n",
    "#dictionaries --> mutable"
   ]
  },
  {
   "cell_type": "markdown",
   "metadata": {},
   "source": [
    "__Problem 3:__"
   ]
  },
  {
   "cell_type": "code",
   "execution_count": 11,
   "metadata": {},
   "outputs": [
    {
     "name": "stdout",
     "output_type": "stream",
     "text": [
      "What do you want to do(+,-,sqrt):+\n",
      "Enter num1: 7\n",
      "Enter num2: 8\n",
      "15\n"
     ]
    }
   ],
   "source": [
    "run calculator.py"
   ]
  },
  {
   "cell_type": "code",
   "execution_count": 12,
   "metadata": {
    "collapsed": true
   },
   "outputs": [],
   "source": [
    "def hypotenuse(a, b):\n",
    "    return sqrt(a**2.0 + b**2.0)"
   ]
  },
  {
   "cell_type": "code",
   "execution_count": 13,
   "metadata": {},
   "outputs": [
    {
     "data": {
      "text/plain": [
       "5.0"
      ]
     },
     "execution_count": 13,
     "metadata": {},
     "output_type": "execute_result"
    }
   ],
   "source": [
    "hypotenuse(3,4) "
   ]
  },
  {
   "cell_type": "markdown",
   "metadata": {},
   "source": [
    "# Introduction to NumPy"
   ]
  },
  {
   "cell_type": "markdown",
   "metadata": {},
   "source": [
    "__Problem 1:__"
   ]
  },
  {
   "cell_type": "code",
   "execution_count": 18,
   "metadata": {
    "collapsed": true
   },
   "outputs": [],
   "source": [
    "import numpy as np"
   ]
  },
  {
   "cell_type": "code",
   "execution_count": 19,
   "metadata": {
    "collapsed": true
   },
   "outputs": [],
   "source": [
    "A = np.array([[3,-1,4],[1,5,-9]]) #2X3 MATRIX"
   ]
  },
  {
   "cell_type": "code",
   "execution_count": 20,
   "metadata": {
    "collapsed": true
   },
   "outputs": [],
   "source": [
    "B = np.array([[2,6,-5,3],[5,-8,9,7],[9,-3,-2,-3]]) #3X4 MATRIX"
   ]
  },
  {
   "cell_type": "code",
   "execution_count": 21,
   "metadata": {},
   "outputs": [
    {
     "data": {
      "text/plain": [
       "array([[ 37,  14, -32, -10],\n",
       "       [-54,  -7,  58,  65]])"
      ]
     },
     "execution_count": 21,
     "metadata": {},
     "output_type": "execute_result"
    }
   ],
   "source": [
    "np.dot(A,B)    #2X4 MATRIX"
   ]
  },
  {
   "cell_type": "code",
   "execution_count": 22,
   "metadata": {
    "collapsed": true
   },
   "outputs": [],
   "source": [
    "import numpy as np\n",
    "np.ndarray?"
   ]
  },
  {
   "cell_type": "markdown",
   "metadata": {},
   "source": [
    "__Problem 2:__"
   ]
  },
  {
   "cell_type": "code",
   "execution_count": 16,
   "metadata": {
    "collapsed": true
   },
   "outputs": [],
   "source": [
    "A = np.array([[3,1,4],[1,5,9],[-5,3,1]])"
   ]
  },
  {
   "cell_type": "code",
   "execution_count": 23,
   "metadata": {},
   "outputs": [
    {
     "data": {
      "text/plain": [
       "array([[   9,   25,   20],\n",
       "       [  -7,   25, 1593]])"
      ]
     },
     "execution_count": 23,
     "metadata": {},
     "output_type": "execute_result"
    }
   ],
   "source": [
    "-(A**3) + 9*(A**2) - 15*A "
   ]
  },
  {
   "cell_type": "markdown",
   "metadata": {},
   "source": [
    "__Problem 3:__      #THIS IS EXTRA,  COULD BE IGNORED."
   ]
  },
  {
   "cell_type": "code",
   "execution_count": 21,
   "metadata": {
    "collapsed": true
   },
   "outputs": [],
   "source": [
    "C = np.ones((7,7))"
   ]
  },
  {
   "cell_type": "code",
   "execution_count": 22,
   "metadata": {
    "collapsed": true
   },
   "outputs": [],
   "source": [
    "A = np.triu(C)"
   ]
  },
  {
   "cell_type": "code",
   "execution_count": 23,
   "metadata": {},
   "outputs": [
    {
     "name": "stdout",
     "output_type": "stream",
     "text": [
      "[[ 1.  1.  1.  1.  1.  1.  1.]\n",
      " [ 0.  1.  1.  1.  1.  1.  1.]\n",
      " [ 0.  0.  1.  1.  1.  1.  1.]\n",
      " [ 0.  0.  0.  1.  1.  1.  1.]\n",
      " [ 0.  0.  0.  0.  1.  1.  1.]\n",
      " [ 0.  0.  0.  0.  0.  1.  1.]\n",
      " [ 0.  0.  0.  0.  0.  0.  1.]]\n"
     ]
    }
   ],
   "source": [
    "print(A)"
   ]
  },
  {
   "cell_type": "code",
   "execution_count": 36,
   "metadata": {
    "collapsed": true
   },
   "outputs": [],
   "source": [
    "B = np.full((7,7), 5)"
   ]
  },
  {
   "cell_type": "code",
   "execution_count": 37,
   "metadata": {
    "collapsed": true
   },
   "outputs": [],
   "source": [
    "il1 = np.tril_indices(7) #Compute two different sets of indices to access 4x4 arrays,for the lower triangular part starting at the main diagonal"
   ]
  },
  {
   "cell_type": "code",
   "execution_count": 38,
   "metadata": {
    "collapsed": true
   },
   "outputs": [],
   "source": [
    "B[il1] = -1"
   ]
  },
  {
   "cell_type": "code",
   "execution_count": 39,
   "metadata": {},
   "outputs": [
    {
     "data": {
      "text/plain": [
       "array([[-1,  5,  5,  5,  5,  5,  5],\n",
       "       [-1, -1,  5,  5,  5,  5,  5],\n",
       "       [-1, -1, -1,  5,  5,  5,  5],\n",
       "       [-1, -1, -1, -1,  5,  5,  5],\n",
       "       [-1, -1, -1, -1, -1,  5,  5],\n",
       "       [-1, -1, -1, -1, -1, -1,  5],\n",
       "       [-1, -1, -1, -1, -1, -1, -1]])"
      ]
     },
     "execution_count": 39,
     "metadata": {},
     "output_type": "execute_result"
    }
   ],
   "source": [
    "B"
   ]
  },
  {
   "cell_type": "code",
   "execution_count": 43,
   "metadata": {},
   "outputs": [
    {
     "data": {
      "text/plain": [
       "array([[-1.,  5.,  5.,  5.,  5.,  5.,  5.],\n",
       "       [-0., -1.,  5.,  5.,  5.,  5.,  5.],\n",
       "       [-0., -0., -1.,  5.,  5.,  5.,  5.],\n",
       "       [-0., -0., -0., -1.,  5.,  5.,  5.],\n",
       "       [-0., -0., -0., -0., -1.,  5.,  5.],\n",
       "       [-0., -0., -0., -0., -0., -1.,  5.],\n",
       "       [-0., -0., -0., -0., -0., -0., -1.]])"
      ]
     },
     "execution_count": 43,
     "metadata": {},
     "output_type": "execute_result"
    }
   ],
   "source": [
    "matrix_product = A * B * A\n",
    "matrix_product"
   ]
  },
  {
   "cell_type": "code",
   "execution_count": 44,
   "metadata": {},
   "outputs": [
    {
     "data": {
      "text/plain": [
       "array([[-1,  5,  5,  5,  5,  5,  5],\n",
       "       [ 0, -1,  5,  5,  5,  5,  5],\n",
       "       [ 0,  0, -1,  5,  5,  5,  5],\n",
       "       [ 0,  0,  0, -1,  5,  5,  5],\n",
       "       [ 0,  0,  0,  0, -1,  5,  5],\n",
       "       [ 0,  0,  0,  0,  0, -1,  5],\n",
       "       [ 0,  0,  0,  0,  0,  0, -1]], dtype=int64)"
      ]
     },
     "execution_count": 44,
     "metadata": {},
     "output_type": "execute_result"
    }
   ],
   "source": [
    "matrix_product = matrix_product.astype(np.int64)\n",
    "matrix_product"
   ]
  },
  {
   "cell_type": "markdown",
   "metadata": {},
   "source": [
    "__Problem 5:__"
   ]
  },
  {
   "cell_type": "code",
   "execution_count": 24,
   "metadata": {
    "collapsed": true
   },
   "outputs": [],
   "source": [
    "A = np.array([[0,2,4],[1,3,5]])    #2X3 MATRIX\n",
    "E = np.transpose(A)\n",
    "D = np.full((3,3),3)               #3X3 MATRIX\n",
    "B = np.tril(D)                     #3X3 MATRIX\n",
    "C = np.diag([-2,-2,-2])\n",
    "F = np.zeros((3, 3))\n",
    "G = np.zeros((2, 2))\n",
    "I = np.ones((3,3))\n",
    "H = np.zeros((2,3))\n",
    "J = np.zeros((3,2))"
   ]
  },
  {
   "cell_type": "code",
   "execution_count": 25,
   "metadata": {
    "collapsed": true
   },
   "outputs": [],
   "source": [
    "M = np.bmat( [[F , E , I], [A ,G, H], [B , J , C]] )"
   ]
  },
  {
   "cell_type": "code",
   "execution_count": 26,
   "metadata": {},
   "outputs": [
    {
     "data": {
      "text/plain": [
       "matrix([[ 0.,  0.,  0.,  0.,  1.,  1.,  1.,  1.],\n",
       "        [ 0.,  0.,  0.,  2.,  3.,  1.,  1.,  1.],\n",
       "        [ 0.,  0.,  0.,  4.,  5.,  1.,  1.,  1.],\n",
       "        [ 0.,  2.,  4.,  0.,  0.,  0.,  0.,  0.],\n",
       "        [ 1.,  3.,  5.,  0.,  0.,  0.,  0.,  0.],\n",
       "        [ 3.,  0.,  0.,  0.,  0., -2.,  0.,  0.],\n",
       "        [ 3.,  3.,  0.,  0.,  0.,  0., -2.,  0.],\n",
       "        [ 3.,  3.,  3.,  0.,  0.,  0.,  0., -2.]])"
      ]
     },
     "execution_count": 26,
     "metadata": {},
     "output_type": "execute_result"
    }
   ],
   "source": [
    "M"
   ]
  },
  {
   "cell_type": "markdown",
   "metadata": {},
   "source": [
    "# Object Oriented Programming "
   ]
  },
  {
   "cell_type": "markdown",
   "metadata": {},
   "source": [
    " __Problem 1:__"
   ]
  },
  {
   "cell_type": "code",
   "execution_count": 4,
   "metadata": {},
   "outputs": [],
   "source": [
    "class Backpack(object):      \n",
    "    def __init__(self, name, color, max_size = 5):      #this function is constructor. We make max_size default value 5.\n",
    "        self.name = name\n",
    "        self.contents = []\n",
    "        self.color = color\n",
    "        self.max_size = max_size \n",
    "        \n",
    "    def put(self, item):       #we make sure that backpack doesn't go over capacity\n",
    "        if len(self.contents) >= self.max_size:\n",
    "            print(\"No Room!\")\n",
    "        if len(self.contents) < self.max_size:\n",
    "            self.contents.append(item)\n",
    "            \n",
    "    def take(self, item):\n",
    "        self.contents.remove(item)\n",
    "        \n",
    "    def dump(self):    #new method dump which resets the contents of the backpack to an empty list\n",
    "        self.contents = []"
   ]
  },
  {
   "cell_type": "markdown",
   "metadata": {},
   "source": [
    "__testing methods in the Backpack class:__"
   ]
  },
  {
   "cell_type": "code",
   "execution_count": 5,
   "metadata": {},
   "outputs": [
    {
     "name": "stdout",
     "output_type": "stream",
     "text": [
      "No Room!\n",
      "['pencil', 'pen', 'paper', 'computer', 'eraser']\n"
     ]
    }
   ],
   "source": [
    "testpack = Backpack(\"Zehra\", \"green\")    #instantiate an object (testpack) using Backpack class\n",
    "for item in [\"pencil\", \"pen\", \"paper\", \"computer\", \"eraser\", \"book\"]:    #trying to put 6 items in the list\n",
    "    testpack.put(item)\n",
    "print(testpack.contents)"
   ]
  },
  {
   "cell_type": "code",
   "execution_count": 6,
   "metadata": {},
   "outputs": [
    {
     "name": "stdout",
     "output_type": "stream",
     "text": [
      "['pencil', 'pen', 'computer', 'eraser']\n"
     ]
    }
   ],
   "source": [
    "testpack.take('paper')   #remove an item\n",
    "print(testpack.contents)"
   ]
  },
  {
   "cell_type": "code",
   "execution_count": 7,
   "metadata": {},
   "outputs": [
    {
     "name": "stdout",
     "output_type": "stream",
     "text": [
      "['pencil', 'pen', 'eraser']\n"
     ]
    }
   ],
   "source": [
    "testpack.take('computer')\n",
    "print(testpack.contents)"
   ]
  },
  {
   "cell_type": "code",
   "execution_count": 9,
   "metadata": {
    "collapsed": true
   },
   "outputs": [],
   "source": [
    "testpack.dump()   #reset the contents of testpack"
   ]
  },
  {
   "cell_type": "markdown",
   "metadata": {},
   "source": [
    "# __problem 2__:"
   ]
  },
  {
   "cell_type": "code",
   "execution_count": 11,
   "metadata": {
    "collapsed": true
   },
   "outputs": [],
   "source": [
    "class Backpack(object):\n",
    "    def __init__(self, name, color, max_size = 5):   #constructor\n",
    "        self.name = name\n",
    "        self.contents = []\n",
    "        self.color = color\n",
    "        self.max_size = max_size \n",
    "        \n",
    "    def put(self, item):\n",
    "        if len(self.contents) >= self.max_size:\n",
    "            print(\"No Room!\")\n",
    "        if len(self.contents) < self.max_size:\n",
    "            self.contents.append(item)\n",
    "            \n",
    "    def take(self, item):\n",
    "        self.contents.remove(item)\n",
    "        \n",
    "    def dump(self):\n",
    "        self.contents = []"
   ]
  },
  {
   "cell_type": "code",
   "execution_count": 13,
   "metadata": {
    "collapsed": true
   },
   "outputs": [],
   "source": [
    "class jetpack(Backpack):\n",
    "    def __init__(self, name, color, max_size = 2, fuel = 10):    #overwrite the constructor\n",
    "        Backpack.__init__(self, name, color, max_size)\n",
    "        self.fuel = fuel\n",
    "        \n",
    "    def fly(self, fuel_burned):\n",
    "        self.fuel_burned = fuel_burned\n",
    "        if self.fuel_burned <= self.fuel:\n",
    "            self.fuel = self.fuel - self.fuel_burned\n",
    "        if self.fuel_burned > self.fuel:\n",
    "            print(\"Not Enough Fuel!\")\n",
    "           \n",
    "            \n",
    "    def dump(self):\n",
    "        Backpack.dump(self)\n",
    "        self.fuel = 0"
   ]
  },
  {
   "cell_type": "markdown",
   "metadata": {},
   "source": [
    "__testing methods in the Backpack class:__"
   ]
  },
  {
   "cell_type": "code",
   "execution_count": 14,
   "metadata": {},
   "outputs": [
    {
     "name": "stdout",
     "output_type": "stream",
     "text": [
      "['computer']\n"
     ]
    }
   ],
   "source": [
    "test_jetpack = jetpack(\"Zehra\", \"Green\")\n",
    "\n",
    "test_jetpack.put(\"computer\")\n",
    "print(test_jetpack.contents) \n"
   ]
  },
  {
   "cell_type": "code",
   "execution_count": 15,
   "metadata": {},
   "outputs": [
    {
     "name": "stdout",
     "output_type": "stream",
     "text": [
      "10\n"
     ]
    }
   ],
   "source": [
    "print(test_jetpack.fuel)"
   ]
  },
  {
   "cell_type": "code",
   "execution_count": 17,
   "metadata": {},
   "outputs": [
    {
     "name": "stdout",
     "output_type": "stream",
     "text": [
      "[]\n"
     ]
    }
   ],
   "source": [
    "test_jetpack.dump()\n",
    "print(test_jetpack.contents) "
   ]
  },
  {
   "cell_type": "code",
   "execution_count": 18,
   "metadata": {},
   "outputs": [
    {
     "name": "stdout",
     "output_type": "stream",
     "text": [
      "0\n"
     ]
    }
   ],
   "source": [
    "print(test_jetpack.fuel) "
   ]
  },
  {
   "cell_type": "code",
   "execution_count": null,
   "metadata": {
    "collapsed": true
   },
   "outputs": [],
   "source": []
  }
 ],
 "metadata": {
  "kernelspec": {
   "display_name": "Python 3",
   "language": "python",
   "name": "python3"
  }
 },
 "nbformat": 4,
 "nbformat_minor": 2
}
